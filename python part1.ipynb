{
 "cells": [
  {
   "cell_type": "code",
   "execution_count": null,
   "metadata": {
    "collapsed": false
   },
   "outputs": [],
   "source": [
    "#Welcome to a python tutorial, run in a notebook environment\n",
    "#in a notebook, you can split up your code and run each cell alone, not so important   to know now\n",
    "#This is an integrated environment, meaning your code can be written and run in the same software.\n",
    "\n",
    "#First lesson\n",
    "#print\n",
    "#The print statement in python3 is a function for the program to print out a line to be seen by the user. IT is very useful in allowing the user to take a peek into the works of the program.\n",
    "#For your first exercise, learn how to create a baby program to signify your entrance into the coding world.\n",
    "#To run each Cell of code, select the desired cell then press ctrl + enter together\n",
    "    \n",
    "    \n",
    "#words preceded by a # are comments, meant to be read by humans and ignored by the computer\n",
    "\n",
    "#print hello world\n",
    "print(\"hello world\")\n",
    "\n"
   ]
  },
  {
   "cell_type": "code",
   "execution_count": null,
   "metadata": {
    "collapsed": false
   },
   "outputs": [],
   "source": [
    "# variables and list\n",
    "\n",
    "# In python, numbers are more complex than you are used to. There are two main types of variables used to store numbers. They are integers and floats. Integers are whole numbers, with no decimals/fractions, while floats allow for decimals. \n",
    "# Because python is smart, you dont have to declare beforehand what you want to save the number as, python will infer for you.\n",
    "\n",
    "myint = 7\n",
    "myfloat= 7.0\n",
    "\n",
    "#operators / doing math in python\n",
    "#python can be operated like calculators, just like in excel\n",
    "\n",
    "#predict the answer of the following operation!\n",
    "giganumber = myint + 10 * 30 +20\n",
    "#try and print  the answer to see if you are correct\n",
    "print(giganumber)"
   ]
  },
  {
   "cell_type": "code",
   "execution_count": null,
   "metadata": {
    "collapsed": false
   },
   "outputs": [],
   "source": [
    "#tip, type(x) is a function used to check the data type of variable x.\n",
    "\n",
    "myintDivided = myint // 3 #// is \"true division\" Because python is so (act)smart when u use 7/3 it converts it to a float for you because it thinks you want the decimals\n",
    "myfloatDivided = myfloat / 3\n",
    "myfloatDividedd = myfloat//3\n",
    "\n",
    "print(\"myintDivided\", myintDivided)\n",
    "\n",
    "print(\"myintDivided type is\", type(myintDivided))\n",
    "\n",
    "print(\"myfloatDivided\", myfloatDivided)\n",
    "\n",
    "print(myfloatDividedd)\n",
    "\n"
   ]
  },
  {
   "cell_type": "code",
   "execution_count": null,
   "metadata": {
    "collapsed": false
   },
   "outputs": [],
   "source": []
  },
  {
   "cell_type": "code",
   "execution_count": null,
   "metadata": {
    "collapsed": false
   },
   "outputs": [],
   "source": [
    "#Try to obtain the value of 3 from 16 \n",
    "#hint, do division on integers\n",
    "\n",
    "thisint16 = 16\n",
    "thisint3 = 16//5\n",
    "print(thisint3)"
   ]
  },
  {
   "cell_type": "code",
   "execution_count": null,
   "metadata": {
    "collapsed": false
   },
   "outputs": [],
   "source": [
    "#lists\n",
    "\n",
    "#lists are a way for you to store a large number of things.\n",
    "#because you cant create 10000 variables( im ean u can but no sane person would would you you insane person)\n",
    "\n",
    "#Create an empty list\n",
    "mylist=[]\n",
    "#create a list with 4 numbers\n",
    "mylist2 = [1,2,3,4]\n",
    "\n",
    "#TRY printing the whole list to see them\n",
    "print(\"mylist\",mylist)\n",
    "print(\"mylist2\",mylist2)"
   ]
  },
  {
   "cell_type": "code",
   "execution_count": null,
   "metadata": {
    "collapsed": false
   },
   "outputs": [],
   "source": [
    "#lists are indexed, meaning each element stored in a list can be accessed.\n",
    "\n",
    "#access the 1st element in the list with an index, note indexes start from 0\n",
    "print(\"first\", mylist2[0])\n",
    "\n",
    "#TRY to access the 3rd element \n",
    "# note indexes start from 0\n",
    "#note indexes start from 0 !!!!!!!!!!!!!!!!\n",
    "print(mylist2[2])"
   ]
  },
  {
   "cell_type": "code",
   "execution_count": null,
   "metadata": {
    "collapsed": false
   },
   "outputs": [],
   "source": [
    "#access elements from the back by using negative index\n",
    "print(\"last\", mylist2[-1])\n",
    "print(\"second last\", mylist2[-2])\n",
    "\n",
    "#TRY to print the number 2 from mylist2\n",
    "print(mylist2[-3])"
   ]
  },
  {
   "cell_type": "code",
   "execution_count": null,
   "metadata": {
    "collapsed": false
   },
   "outputs": [],
   "source": [
    "#a lesson in reading errors ;)\n",
    "print(mylist2[10])\n",
    "\n",
    "#you cannot access an element out of your list with a wrong index\n",
    "#a list with 4 elements does not have index 10"
   ]
  },
  {
   "cell_type": "code",
   "execution_count": null,
   "metadata": {
    "collapsed": false
   },
   "outputs": [],
   "source": [
    "#access a slice of a list with colon index\n",
    "sublist = mylist2[0:-1]\n",
    "print(sublist)\n",
    "#try printing and see what happens!"
   ]
  },
  {
   "cell_type": "code",
   "execution_count": null,
   "metadata": {
    "collapsed": false
   },
   "outputs": [],
   "source": [
    "#making your list bigger\n",
    "#you can add elements to the end of your list by using list.append()\n",
    "#add x to the list with list.append(x) \n",
    "mylist2.append(10)\n",
    "print(mylist2)"
   ]
  },
  {
   "cell_type": "code",
   "execution_count": null,
   "metadata": {
    "collapsed": false
   },
   "outputs": [],
   "source": [
    "\n",
    "#you can add elements to anywhere in your list with list.insert()\n",
    "#add x in position y to the list with list.insert(y,x)\n",
    "mylist2.insert(1,10)\n",
    "print(mylist2)\n",
    "\n",
    "#quick tip\n",
    "#Functions take in arguments and return values\n",
    "#for example, print is a function that takes in what you give it, and returns it to the screen to be visualised (In a layman way)\n",
    "#insert is a function that takes in 2 arguments, index and value,(technically your original list as well) and returns you a new list with the added element \n"
   ]
  },
  {
   "cell_type": "code",
   "execution_count": null,
   "metadata": {
    "collapsed": false
   },
   "outputs": [],
   "source": [
    "\n",
    "#combine two lists together\n",
    "megalist = mylist2 + sublist\n",
    "#order matters!\n",
    "print(megalist)\n",
    "\n"
   ]
  },
  {
   "cell_type": "code",
   "execution_count": null,
   "metadata": {
    "collapsed": false
   },
   "outputs": [],
   "source": [
    "\n",
    "#strings\n",
    "#now you have learned to numbers, you must be wondering how to store letters\n",
    "#Strings can be considered as a list of letters\n",
    "#Strings are defined with a single '' or double quote \"\"\n",
    "#functionally the same, but a string is terminated by the same symbol you begin it with. So using double quotes \"\" allows you to use apostrophes easily.\n",
    "\n",
    "print(\"I can print a'p'o's't'r'o'p'h'e's all i want\")\n",
    "#tip try printing apostrophes with single quotes and see what happens\n",
    "print('abcd\"ef') #put an apostrophe anywhere in the string"
   ]
  },
  {
   "cell_type": "code",
   "execution_count": null,
   "metadata": {
    "collapsed": false
   },
   "outputs": [],
   "source": [
    "#combine two strings together\n",
    "\n",
    "mystring1 = \"I love \"\n",
    "mystring2 = \"python :)\"\n",
    "hehe = mystring1+mystring2\n",
    "print(hehe)"
   ]
  },
  {
   "cell_type": "code",
   "execution_count": null,
   "metadata": {
    "collapsed": false
   },
   "outputs": [],
   "source": [
    "#loops\n",
    "#loops are the backbone of programs often\n",
    "#they allow you to repeat your code for x times, to do lots of operation in one code line\n",
    "\n",
    "#there are 3 parts to a loop, usually the initialisation of variable, stop condition, and update to variable\n",
    "#in python, the language is more lax and the most common loop you will see is a for loop\n",
    "\n",
    "#python uses block code, so indentation is very important (format of code)\n",
    "#indented code is considered the body of the loop. All the code at the same indentation level, gets executed for x times as defined in the loop statement\n",
    "\n",
    "for loopvariableI in range(1,10):\n",
    "    print(loopvariableI)\n",
    "\n",
    "\n",
    "#in such a short line of code, loopvariableI has been \n",
    "#1. initialised as an \"iterator\" going through the list of numbers from 1 to 10 (range1,10) \n",
    "#2. the stop condtion is when loopvariableI reaches 10 then it exits the loop\n",
    "#3. loopvariableI increments in value to the next number in the list"
   ]
  },
  {
   "cell_type": "code",
   "execution_count": null,
   "metadata": {
    "collapsed": false
   },
   "outputs": [],
   "source": [
    "#However, on closer scrutiny, python is not running loopvariableI as a \"saved number\"\n",
    "\n",
    "\n",
    "for loopvariableI in [1,3,5,2,10,3]:\n",
    "    loopvariableI+=1\n",
    "    print(loopvariableI)\n",
    "    \n",
    "    \n",
    "    \n",
    "#1. it is running loopvariableI as an iterator through the list, loopvariablei takes on the value of the current element it is running through. You can manipulate lopvariableI as you want insde the loop itself but when the loop restarts loopvariableI is re-initialised as the next element in the list\n",
    "#2. the stop condition is not when loopvariableI itself reaches 10, but when it hits the end of the range given in range(1,10), you cannot easily change the number of times the loop runs(for now)\n",
    "#3. loopvariableI gets updated to the next number in the list\n"
   ]
  },
  {
   "cell_type": "code",
   "execution_count": null,
   "metadata": {
    "collapsed": false
   },
   "outputs": [],
   "source": [
    "#python uses block code, so indentation is very important (format of code)\n",
    "#indented code is considered the body of the loop. All the code at the same indentation level, gets executed for x times as defined in the loop statement\n",
    "#Thus you can do nested for loops, where one loop is inside the body of another loop, allowing us to do x * y operations where x,y is the loop counts of each loop respectively\n",
    "\n",
    "#print the multiplication table for 1 - 12\n",
    "print(\"multiplication table\")\n",
    "for i in range(1,13):\n",
    "    mylist = []\n",
    "    for j in range(1,13):\n",
    "        mylist.append(i*j)\n",
    "    print(\"multiplication row of\",i)\n",
    "    print(mylist)"
   ]
  },
  {
   "cell_type": "code",
   "execution_count": null,
   "metadata": {
    "cocalc": {
     "outputs": {
      "0": {
       "name": "input",
       "opts": {
        "password": false,
        "prompt": "input a number please: "
       },
       "output_type": "stream"
      }
     }
    },
    "collapsed": false
   },
   "outputs": [],
   "source": [
    "\n",
    "#Just like print allows the program to talk to the user\n",
    "#The fucntion input() allows the user to talk to the program\n",
    "\n",
    "x = input(\"input a number please: \")\n",
    "print(\"your number is \", x)\n",
    "\n",
    "#the default variable of input is ? \n",
    "#Tip: check with the function type()\n",
    "type(x)\n",
    "x = int(x)\n",
    "type(x)"
   ]
  },
  {
   "cell_type": "code",
   "execution_count": null,
   "metadata": {
    "cocalc": {
     "outputs": {
      "0": {
       "name": "input",
       "opts": {
        "password": false,
        "prompt": ""
       },
       "output_type": "stream",
       "value": "5"
      },
      "1": {
       "name": "input",
       "opts": {
        "password": false,
        "prompt": ""
       },
       "output_type": "stream"
      },
      "2": {
       "name": "input",
       "opts": {
        "password": false,
        "prompt": ""
       },
       "output_type": "stream",
       "value": "3"
      },
      "3": {
       "name": "input",
       "opts": {
        "password": false,
        "prompt": ""
       },
       "output_type": "stream",
       "value": "2"
      },
      "4": {
       "name": "input",
       "opts": {
        "password": false,
        "prompt": ""
       },
       "output_type": "stream",
       "value": "3"
      },
      "5": {
       "name": "input",
       "opts": {
        "password": false,
        "prompt": ""
       },
       "output_type": "stream",
       "value": "4"
      },
      "6": {
       "name": "input",
       "opts": {
        "password": false,
        "prompt": ""
       },
       "output_type": "stream",
       "value": "5"
      }
     }
    },
    "collapsed": false
   },
   "outputs": [],
   "source": [
    "##### EXERCISE INPUTOUTPUT\n",
    "\n",
    "#create a program that sums up all numbers that the user gives you AND gives the average value.\n",
    "#your program should take in inputs in 2 levels, the first will be x,\n",
    "#The second level of input will take in x numbers.\n",
    "\n",
    "#your program then outputs the total sum of numbers and the avg\n",
    "\n",
    "#T\n",
    "#hint: you may need to use int() to convert something into an integer\n",
    "\n",
    "x = int(input())\n",
    "print(x)\n",
    "\n",
    "\n",
    "numbers = []\n",
    "\n",
    "\n",
    "for z in range (0, x):\n",
    "    j = int(input())\n",
    "    numbers.insert(-1, j)\n",
    "print(numbers)\n",
    "\n",
    "sum = 0\n",
    "for i in numbers:\n",
    "    sum = sum + i\n",
    "   \n",
    "print(sum)\n",
    "   \n",
    "avg = sum/x\n",
    "print(avg)\n",
    "\n"
   ]
  },
  {
   "cell_type": "markdown",
   "metadata": {
    "collapsed": false
   },
   "source": []
  },
  {
   "cell_type": "code",
   "execution_count": null,
   "metadata": {
    "collapsed": false
   },
   "outputs": [],
   "source": [
    "[]\n",
    "[1]\n",
    "[2,1]\n",
    "[2,3,1]\n",
    "[2,3,]"
   ]
  },
  {
   "cell_type": "code",
   "execution_count": null,
   "metadata": {
    "collapsed": false
   },
   "outputs": [],
   "source": [
    "#expected input\n",
    "# 5\n",
    "# 1 2 3 4 5\n",
    "#expected output\n",
    "# 15 3"
   ]
  },
  {
   "cell_type": "code",
   "execution_count": null,
   "metadata": {
    "collapsed": false
   },
   "outputs": [],
   "source": [
    "#custom functions\n",
    "#Functions are a way to reuse code and make it more modularised \n",
    "#Functions take in arguments and return values\n",
    "\n",
    "#for example, print is a function that takes in what you give it, and returns it to the screen to be visualised (In a layman way)\n",
    "\n",
    "#functions begin with define in python\n",
    "\n",
    "def sum_three_numbers(a,b,c): #the brackets enclose arguments, with local variable names\\\n",
    "    return a+b+c\n",
    "\n",
    "sum_three_numbers(1,2,3)"
   ]
  },
  {
   "cell_type": "code",
   "execution_count": null,
   "metadata": {
    "collapsed": false
   },
   "outputs": [],
   "source": []
  }
 ],
 "metadata": {
  "kernelspec": {
   "name": "python383jvsc74a57bd05dba66e72ee0486e027e16e76828924844942279cc40e07d7f1b688e0ff7b112",
   "display_name": "Python 3.8.3 64-bit"
  },
  "language_info": {
   "codemirror_mode": {
    "name": "ipython",
    "version": 3
   },
   "file_extension": ".py",
   "mimetype": "text/x-python",
   "name": "python",
   "nbconvert_exporter": "python",
   "pygments_lexer": "ipython3",
   "version": "3.8.3-final"
  },
  "metadata": {
   "interpreter": {
    "hash": "5dba66e72ee0486e027e16e76828924844942279cc40e07d7f1b688e0ff7b112"
   }
  }
 },
 "nbformat": 4,
 "nbformat_minor": 4
}