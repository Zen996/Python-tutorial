{
 "cells": [
  {
   "cell_type": "markdown",
   "metadata": {
    "collapsed": false
   },
   "source": [
    "Boolean and conditional/control statements\n",
    "\n",
    "\n",
    "Boolean maths involves doing math with just two numbers: 1 or 0. (you work with 1s and 0s, and end up with 1s or 0s as your answer)\n",
    "\n",
    "In python, Boolean values are stored in BOOLEAN variables. This is represented as TRUE or FALSE. It is used for logic/control statements.\n",
    "\n",
    "For example, you want to check if a number, x, is positive or negative. Mathematically, x is positive if x>0.\n",
    "A logic statement can be construed as: \"if x is larger than 0? x is positive\" \n",
    "\n",
    "Naturally, this translates into python as if - else statements"
   ]
  },
  {
   "cell_type": "code",
   "execution_count": null,
   "metadata": {
    "collapsed": false
   },
   "outputs": [],
   "source": [
    "#The basic format of if else statements are\n",
    "\n",
    "#if (true)  \n",
    "#    do this #this code is executed if the things in the bracket equate to be true\n",
    "#else\n",
    "#    do this instead #this code is executed if the things in the bracket equate to be false\n",
    "\n",
    "#For example\n",
    "\n",
    "if (True): \n",
    "\n",
    "#True is a reserved keyword in python, it means the boolean variable \"True\" to python and you cannot use it for your own purposes.\n",
    "\n",
    "    print(\"This is True\")\n",
    "    \n",
    "else:\n",
    "    print(\"That is False\")\n",
    "    \n",
    "if (False):\n",
    "    print(\"This is True\")\n",
    "    \n",
    "else:\n",
    "    print(\"That is False\")"
   ]
  },
  {
   "cell_type": "markdown",
   "metadata": {
    "collapsed": false
   },
   "source": [
    "Boolean Operators\n",
    "To work with boolean values True and False, the boolean operators in python are \"not\",\"and\" and \"or\"\n",
    "\n",
    "\"not\" inverses the assigned boolean value, true becomes false and vice versa\n",
    "\n",
    "not True -> False\n",
    "\n",
    "\"and\" checks two values, x and y, and returns True only if both are True\n",
    "\n",
    "True and True -> True\n",
    "\n",
    "True and False -> False\n",
    "\n",
    "\"or\" checks two values, x and y, and returns true if at least one is True\n",
    "\n",
    "True or False -> True\n",
    "\n",
    "False or False -> False"
   ]
  },
  {
   "cell_type": "code",
   "execution_count": null,
   "metadata": {
    "collapsed": false
   },
   "outputs": [],
   "source": [
    "if (True and True): \n",
    "    #True and True -> True\n",
    "    print(\"This is True\")\n",
    "    \n",
    "else:\n",
    "    print(\"That is False\")\n",
    "    \n",
    "if (False or True):\n",
    "    print(\"This is True\")\n",
    "    \n",
    "else:\n",
    "    print(\"That is False\")"
   ]
  },
  {
   "cell_type": "markdown",
   "metadata": {
    "collapsed": false
   },
   "source": [
    "Comparison Operators\n",
    "Comparison Operators are used to compare two things.\n",
    "\n",
    "\">\" is strictly bigger than\n",
    "\n",
    "\"<\" is strictly smaller than\n",
    "\n",
    "\"==\" is equal to\n",
    "\n",
    "\">=\" is bigger than or equal to\n",
    "\n",
    "\"<=\" is smaller than or equal too\n",
    "\n",
    "They are usually used to compare numbers."
   ]
  },
  {
   "cell_type": "code",
   "execution_count": null,
   "metadata": {
    "collapsed": false
   },
   "outputs": [],
   "source": [
    "#Try and guess the output of each if-else statement\n",
    "if (4>=3): \n",
    "    print(\"This is the result of 4>3\", 4>=3)\n",
    "    \n",
    "else:\n",
    "    print(\"That is False\")\n",
    "    \n",
    "if (2>3):\n",
    "    print(\"This is True\")\n",
    "    \n",
    "else:\n",
    "    print(\"That is False\")"
   ]
  },
  {
   "cell_type": "code",
   "execution_count": null,
   "metadata": {
    "cocalc": {
     "outputs": {
      "0": {
       "name": "input",
       "opts": {
        "password": false,
        "prompt": ""
       },
       "output_type": "stream",
       "value": "7"
      }
     }
    },
    "collapsed": false
   },
   "outputs": [],
   "source": [
    "x = int(input())\n",
    "if (x > 5):\n",
    "    if(x>10):\n",
    "        print(\"x is huge\")\n",
    "        \n",
    "else:\n",
    "    if(x>2):\n",
    "        print(\"x is bigger than 2 and smaller than 5\")\n",
    "    "
   ]
  },
  {
   "cell_type": "code",
   "execution_count": null,
   "metadata": {
    "collapsed": false
   },
   "outputs": [],
   "source": [
    "#custom functions\n",
    "#Functions are a way to reuse code and make your program more modularised \n",
    "#Functions take in arguments and return values\n",
    "\n",
    "#for example, print is a function that takes in what you give it, and returns it to the screen to be visualised (In a layman way)\n",
    "\n",
    "#functions begin with define in python, and end with return\n",
    "\n",
    "def sum_three_numbers(a,b,c): #the brackets enclose arguments, with local variable names\\\n",
    "    totalcount = a+b+c\n",
    "    #this is a local variable in the function, calling it outside of this function will lead to an error\n",
    "    return totalcount\n",
    "\n",
    "#So you have created a function that takes in 3 numbers, adds them up, and returns you the total sum \n",
    "\n",
    "#Lets see how this works\n",
    "sum_three_numbers(100,200,300)"
   ]
  },
  {
   "cell_type": "code",
   "execution_count": null,
   "metadata": {
    "cocalc": {
     "outputs": {
      "0": {
       "name": "input",
       "opts": {
        "password": false,
        "prompt": ""
       },
       "output_type": "stream",
       "value": "3"
      },
      "1": {
       "name": "input",
       "opts": {
        "password": false,
        "prompt": ""
       },
       "output_type": "stream",
       "value": "6"
      },
      "2": {
       "name": "input",
       "opts": {
        "password": false,
        "prompt": ""
       },
       "output_type": "stream",
       "value": "9"
      }
     }
    },
    "collapsed": false
   },
   "outputs": [],
   "source": [
    "#with this function, you dont have to create 3 integer variables to store and manipulate with each time you want to sum numbers. \n",
    "#That is, instead of writing \n",
    "x=int(input())\n",
    "y=int(input())\n",
    "z=int(input())\n",
    "mytotal = x+y+z\n",
    "print(mytotal)"
   ]
  },
  {
   "cell_type": "code",
   "execution_count": null,
   "metadata": {
    "cocalc": {
     "outputs": {
      "0": {
       "name": "input",
       "opts": {
        "password": false,
        "prompt": ""
       },
       "output_type": "stream",
       "value": "3"
      },
      "1": {
       "name": "input",
       "opts": {
        "password": false,
        "prompt": ""
       },
       "output_type": "stream",
       "value": "6"
      },
      "2": {
       "name": "input",
       "opts": {
        "password": false,
        "prompt": ""
       },
       "output_type": "stream",
       "value": "9"
      }
     }
    },
    "collapsed": false
   },
   "outputs": [],
   "source": [
    "#you can do\n",
    "x=int(input())\n",
    "y=int(input())\n",
    "z=int(input())\n",
    "mytotal = sum_three_numbers(x,y,z)\n",
    "print(mytotal)\n"
   ]
  },
  {
   "cell_type": "code",
   "execution_count": null,
   "metadata": {
    "collapsed": false
   },
   "outputs": [],
   "source": [
    "#this may be a bad example since it is easier to just write out the code x+y+z each time\n",
    "#if you had a more complex operation, like trying to find the hypotenuse in a cube using the pythagoras function twice, you can save a lot more time\n",
    "\n",
    "#so imagine that instead of print() being a predefined function, you have to write 100 lines of code just to output your variable to the screen each time. So for every print statement in your program now it becomes 100 lines longer. thats gotta suck\n"
   ]
  },
  {
   "cell_type": "code",
   "execution_count": null,
   "metadata": {
    "collapsed": false
   },
   "outputs": [],
   "source": [
    "#TRy and build a program called print_triangles(n),print_square(n) and print_Diamonds(n). They take in n as the size of the shape to print\n",
    "\n",
    "#Your program should print triangles, squares and diamonds of size x. You are given 2 inputs. The first input will be the size of the prints. The second input determines which comes first."
   ]
  },
  {
   "cell_type": "code",
   "execution_count": null,
   "metadata": {
    "cocalc": {
     "outputs": {
      "0": {
       "name": "input",
       "opts": {
        "password": false,
        "prompt": ""
       },
       "output_type": "stream",
       "value": "7"
      },
      "1": {
       "name": "input",
       "opts": {
        "password": false,
        "prompt": ""
       },
       "output_type": "stream",
       "value": "1"
      }
     }
    },
    "collapsed": false
   },
   "outputs": [],
   "source": [
    "def print_triangle(trianglesize):\n",
    "#write code that will print a triangle like\n",
    "#*\n",
    "#**\n",
    "#***\n",
    "    return\n",
    "\n",
    "def print_square(squaresize):\n",
    "#write code that will print a square like\n",
    "#***\n",
    "#***\n",
    "#***\n",
    "    return\n",
    "\n",
    "def print_diamond(dsize):\n",
    "#write code that will print a diamond like\n",
    "# *\n",
    "#***\n",
    "# *\n",
    "    return\n",
    "\n",
    "\n",
    "\n",
    "#if 1 print triangle first\n",
    "#if 2 print square first\n",
    "#if 3 print diamond first\n",
    "x=int(input())\n",
    "y=int(input())\n"
   ]
  },
  {
   "cell_type": "markdown",
   "metadata": {
    "collapsed": false
   },
   "source": [
    "Dictionaries\n",
    "A dictionary is a data type similar to lists, but you dont use index to access the data inside. \n",
    "\n",
    "Like when you look up a word in a dictionary to get the meaning, python dictionaries store data in a KEY : VALUE pair. you use a key to get the data that you want."
   ]
  },
  {
   "cell_type": "code",
   "execution_count": null,
   "metadata": {
    "collapsed": false
   },
   "outputs": [],
   "source": [
    "#dictionaries are defined with curly braces {}\n",
    "\n",
    "mydata={}\n",
    "mydata[\"height\"]=195 #storing the integer 175 under the key \"height\"\n",
    "mydata[\"weight\"]=76\n",
    "mydata[\"name\"]=\"pog\" #storing a string in the same dictionary\n",
    "print(mydata)"
   ]
  },
  {
   "cell_type": "code",
   "execution_count": null,
   "metadata": {
    "collapsed": false
   },
   "outputs": [],
   "source": [
    "mydata[\"hands\"]=10 \"fingers\" #each needs to be 1 data type, cant mix an integer and a string"
   ]
  }
 ],
 "metadata": {
  "kernelspec": {
   "name": "python383jvsc74a57bd05dba66e72ee0486e027e16e76828924844942279cc40e07d7f1b688e0ff7b112",
   "display_name": "Python 3.8.3 64-bit"
  },
  "language_info": {
   "codemirror_mode": {
    "name": "ipython",
    "version": 3
   },
   "file_extension": ".py",
   "mimetype": "text/x-python",
   "name": "python",
   "nbconvert_exporter": "python",
   "pygments_lexer": "ipython3",
   "version": "3.8.3-final"
  },
  "metadata": {
   "interpreter": {
    "hash": "5dba66e72ee0486e027e16e76828924844942279cc40e07d7f1b688e0ff7b112"
   }
  }
 },
 "nbformat": 4,
 "nbformat_minor": 4
}